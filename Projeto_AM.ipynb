{
  "nbformat": 4,
  "nbformat_minor": 0,
  "metadata": {
    "colab": {
      "provenance": [],
      "authorship_tag": "ABX9TyMEUSZvY/FoI1cLSYc+reZy",
      "include_colab_link": true
    },
    "kernelspec": {
      "name": "python3",
      "display_name": "Python 3"
    },
    "language_info": {
      "name": "python"
    }
  },
  "cells": [
    {
      "cell_type": "markdown",
      "metadata": {
        "id": "view-in-github",
        "colab_type": "text"
      },
      "source": [
        "<a href=\"https://colab.research.google.com/github/alissonjcjk/Projeto-A.M/blob/main/Projeto_AM.ipynb\" target=\"_parent\"><img src=\"https://colab.research.google.com/assets/colab-badge.svg\" alt=\"Open In Colab\"/></a>"
      ]
    },
    {
      "cell_type": "code",
      "source": [
        "# Configurar seu nome e email para o commit\n",
        "!git config --global user.name \"alisson\"\n",
        "!git config --global user.email \"asb3@cin.ufpe.br\"\n",
        "\n",
        "# Adicionar suas alterações para o commit\n",
        "!git add .  # O ponto adiciona todos os arquivos modificados\n",
        "\n",
        "# Fazer o commit\n",
        "!git commit -m \"Adiciona análise exploratória e pré-processamento\"\n",
        "\n",
        "# Fazer o push usando o seu token\n",
        "# ATENÇÃO: Substitua os placeholders\n",
        "username = 'SEU_USUARIO_GITHUB'\n",
        "token = 'SEU_TOKEN_AQUI' # Cole o token que você gerou\n",
        "repository = 'SEU_REPOSITORIO'\n",
        "\n",
        "!git push https://{token}@github.com/{username}/{repository}.git\n"
      ],
      "metadata": {
        "colab": {
          "base_uri": "https://localhost:8080/"
        },
        "id": "0qKNmy4A-RWW",
        "outputId": "bee3ccb4-e2ab-4c31-8284-0a8b69f644d9"
      },
      "execution_count": 5,
      "outputs": [
        {
          "output_type": "stream",
          "name": "stdout",
          "text": [
            "error: key does not contain a section: alissonjcjk\n",
            "error: key does not contain a section: alissonjcjk\n"
          ]
        }
      ]
    },
    {
      "cell_type": "code",
      "source": [
        "%cd Projeto-A.M/"
      ],
      "metadata": {
        "colab": {
          "base_uri": "https://localhost:8080/"
        },
        "id": "iT9igNfN90BH",
        "outputId": "aa61fc06-3cf9-49bf-b7c0-a9af3ad20f82"
      },
      "execution_count": 2,
      "outputs": [
        {
          "output_type": "stream",
          "name": "stdout",
          "text": [
            "/content/Projeto-A.M\n"
          ]
        }
      ]
    }
  ]
}